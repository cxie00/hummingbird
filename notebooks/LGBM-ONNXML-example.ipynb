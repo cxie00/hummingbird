{
 "cells": [
  {
   "cell_type": "markdown",
   "metadata": {},
   "source": [
    "### This notebook shows how to convert from LGBM to ONNX and provides an example of the ONNXML converter"
   ]
  },
  {
   "cell_type": "code",
   "execution_count": null,
   "metadata": {},
   "outputs": [],
   "source": [
    "# Uncomment and run this cell if you need to install Hummingbird and ONNX\n",
    "#!pip install hummingbird_ml[extra,onnx]"
   ]
  },
  {
   "cell_type": "code",
   "execution_count": null,
   "metadata": {},
   "outputs": [],
   "source": [
    "import torch\n",
    "import numpy as np\n",
    "import lightgbm as lgb\n",
    "\n",
    "import onnxruntime as ort\n",
    "from onnxmltools.convert import convert_lightgbm\n",
    "from onnxconverter_common.data_types import FloatTensorType\n",
    "\n",
    "from hummingbird.ml import convert\n",
    "from hummingbird.ml import constants\n",
    "\n",
    "# Create some random data for binary classification.\n",
    "num_classes = 2\n",
    "X = np.array(np.random.rand(10000, 28), dtype=np.float32)\n",
    "y = np.random.randint(num_classes, size=10000)"
   ]
  },
  {
   "cell_type": "code",
   "execution_count": null,
   "metadata": {},
   "outputs": [],
   "source": [
    "# Create and train a model (LightGBM in this case).\n",
    "model = lgb.LGBMClassifier()\n",
    "model.fit(X, y)"
   ]
  },
  {
   "cell_type": "code",
   "execution_count": null,
   "metadata": {},
   "outputs": [],
   "source": [
    "%%timeit -r 3\n",
    "\n",
    "# Run the LGBM model on CPU \n",
    "model.predict(X)"
   ]
  },
  {
   "cell_type": "code",
   "execution_count": null,
   "metadata": {},
   "outputs": [],
   "source": [
    "# Use ONNXMLTOOLS to convert the model to ONNXML.\n",
    "initial_types = [(\"input\", FloatTensorType([X.shape[0], X.shape[1]]))] # Define the inputs for the ONNX\n",
    "onnx_ml_model = convert_lightgbm(\n",
    "    model, initial_types=initial_types, target_opset=9\n",
    ")"
   ]
  },
  {
   "cell_type": "code",
   "execution_count": null,
   "metadata": {},
   "outputs": [],
   "source": [
    "# Use Hummingbird to convert the ONNXML model to ONNX.\n",
    "onnx_model = convert(onnx_ml_model, \"onnx\")"
   ]
  },
  {
   "cell_type": "code",
   "execution_count": null,
   "metadata": {
    "tags": []
   },
   "outputs": [],
   "source": [
    "%%timeit -r 3\n",
    "\n",
    "# Run the ONNX model on CPU \n",
    "onnx_model.predict(X)"
   ]
  }
 ],
 "metadata": {
  "interpreter": {
   "hash": "19eb2ea2e177b2c490fab7daf597d081559996785465fafb73f5be6b10fe60f1"
  },
  "kernelspec": {
   "display_name": "Python 3.9.12 ('base')",
   "language": "python",
   "name": "python3"
  },
  "language_info": {
   "codemirror_mode": {
    "name": "ipython",
    "version": 3
   },
   "file_extension": ".py",
   "mimetype": "text/x-python",
   "name": "python",
   "nbconvert_exporter": "python",
   "pygments_lexer": "ipython3",
   "version": "3.9.12"
  }
 },
 "nbformat": 4,
 "nbformat_minor": 2
}
