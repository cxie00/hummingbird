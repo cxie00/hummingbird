{
 "cells": [
  {
   "cell_type": "code",
   "execution_count": null,
   "metadata": {},
   "outputs": [],
   "source": [
    "!pip install hummingbird_ml[extra]"
   ]
  },
  {
   "cell_type": "code",
   "execution_count": null,
   "metadata": {},
   "outputs": [],
   "source": [
    "import numpy as np\n",
    "import lightgbm as lgb\n",
    "from hummingbird.ml import convert\n",
    "\n",
    "# Create some random data for binary classification.\n",
    "num_classes = 2\n",
    "X = np.random.rand(200000, 28)\n",
    "y = np.random.randint(num_classes, size=200000)"
   ]
  },
  {
   "cell_type": "code",
   "execution_count": null,
   "metadata": {},
   "outputs": [],
   "source": [
    "# Create and train a model (LightGBM in this case).\n",
    "model = lgb.LGBMClassifier()\n",
    "model.fit(X, y)"
   ]
  },
  {
   "cell_type": "code",
   "execution_count": null,
   "metadata": {},
   "outputs": [],
   "source": [
    "%%timeit -r 3\n",
    "\n",
    "# Run the LGBM model on CPU \n",
    "model.predict(X)"
   ]
  },
  {
   "cell_type": "code",
   "execution_count": null,
   "metadata": {},
   "outputs": [],
   "source": [
    "# Use Hummingbird to convert the model to PyTorch.\n",
    "hb_model = convert(model, 'torch')"
   ]
  },
  {
   "cell_type": "code",
   "execution_count": null,
   "metadata": {},
   "outputs": [],
   "source": [
    "%%timeit -r 3\n",
    "\n",
    "# Run Hummingbird on CPU - By default CPU execution is used in Hummingbird.\n",
    "hb_model.predict(X)"
   ]
  },
  {
   "cell_type": "code",
   "execution_count": null,
   "metadata": {},
   "outputs": [],
   "source": [
    "%%timeit -r 3\n",
    "\n",
    "# Run Hummingbird on GPU (Note that you must have a GPU-enabled machine).\n",
    "hb_model.to('cuda')\n",
    "hb_model.predict(X)"
   ]
  }
 ],
 "metadata": {
  "interpreter": {
   "hash": "19eb2ea2e177b2c490fab7daf597d081559996785465fafb73f5be6b10fe60f1"
  },
  "kernelspec": {
   "display_name": "Python 3.9.12 ('base')",
   "language": "python",
   "name": "python3"
  },
  "language_info": {
   "codemirror_mode": {
    "name": "ipython",
    "version": 3
   },
   "file_extension": ".py",
   "mimetype": "text/x-python",
   "name": "python",
   "nbconvert_exporter": "python",
   "pygments_lexer": "ipython3",
   "version": "3.9.12"
  }
 },
 "nbformat": 4,
 "nbformat_minor": 2
}
