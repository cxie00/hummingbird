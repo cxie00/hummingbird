{
 "cells": [
  {
   "cell_type": "markdown",
   "metadata": {},
   "source": [
    "#### If you haven't installed Hummingbird, do that first, by uncommenting the line below.\n"
   ]
  },
  {
   "cell_type": "code",
   "execution_count": 1,
   "metadata": {},
   "outputs": [],
   "source": [
    "#! pip install hummingbird_ml "
   ]
  },
  {
   "cell_type": "markdown",
   "metadata": {},
   "source": [
    "#### Import Hummingbird's convert function"
   ]
  },
  {
   "cell_type": "code",
   "execution_count": 3,
   "metadata": {},
   "outputs": [],
   "source": [
    "from hummingbird.ml import convert"
   ]
  },
  {
   "cell_type": "markdown",
   "metadata": {},
   "source": [
    "#### Download and unzip the Year data"
   ]
  },
  {
   "cell_type": "code",
   "execution_count": 4,
   "metadata": {},
   "outputs": [],
   "source": [
    "import zipfile\n",
    "import urllib.request as urllib\n",
    "url = 'https://archive.ics.uci.edu/ml/machine-learning-databases/00203/YearPredictionMSD.txt.zip'\n",
    "\n",
    "filehandle, _ = urllib.urlretrieve(url)\n",
    "zip_file_object = zipfile.ZipFile(filehandle, 'r')\n",
    "filename = zip_file_object.namelist()[0]\n",
    "bytes_data = zip_file_object.open(filename).read()"
   ]
  },
  {
   "cell_type": "markdown",
   "metadata": {},
   "source": [
    "#### Convert the bytes to pandas and split it up"
   ]
  },
  {
   "cell_type": "code",
   "execution_count": 5,
   "metadata": {},
   "outputs": [],
   "source": [
    "import pandas as pd\n",
    "from io import BytesIO\n",
    "from sklearn.model_selection import train_test_split\n",
    "\n",
    "year = pd.read_csv(BytesIO(bytes_data), header = None)\n",
    "\n",
    "#train_size = 463715  # Note: this will extend the training time if we do the full dataset\n",
    "train_size = 200000\n",
    "X = year.iloc[:, 1:]\n",
    "y = year.iloc[:, 0]\n",
    "X_train, X_test, y_train, y_test = train_test_split(X, y, shuffle=False, train_size=train_size, test_size=51630)\n",
    "\n",
    "# Store the test data as numpy by pulling the values out of the pandas dataframe\n",
    "data = X_test.values"
   ]
  },
  {
   "cell_type": "code",
   "execution_count": 6,
   "metadata": {},
   "outputs": [
    {
     "data": {
      "text/html": [
       "<div>\n",
       "<style scoped>\n",
       "    .dataframe tbody tr th:only-of-type {\n",
       "        vertical-align: middle;\n",
       "    }\n",
       "\n",
       "    .dataframe tbody tr th {\n",
       "        vertical-align: top;\n",
       "    }\n",
       "\n",
       "    .dataframe thead th {\n",
       "        text-align: right;\n",
       "    }\n",
       "</style>\n",
       "<table border=\"1\" class=\"dataframe\">\n",
       "  <thead>\n",
       "    <tr style=\"text-align: right;\">\n",
       "      <th></th>\n",
       "      <th>1</th>\n",
       "      <th>2</th>\n",
       "      <th>3</th>\n",
       "      <th>4</th>\n",
       "      <th>5</th>\n",
       "      <th>6</th>\n",
       "      <th>7</th>\n",
       "      <th>8</th>\n",
       "      <th>9</th>\n",
       "      <th>10</th>\n",
       "      <th>...</th>\n",
       "      <th>81</th>\n",
       "      <th>82</th>\n",
       "      <th>83</th>\n",
       "      <th>84</th>\n",
       "      <th>85</th>\n",
       "      <th>86</th>\n",
       "      <th>87</th>\n",
       "      <th>88</th>\n",
       "      <th>89</th>\n",
       "      <th>90</th>\n",
       "    </tr>\n",
       "  </thead>\n",
       "  <tbody>\n",
       "    <tr>\n",
       "      <th>200000</th>\n",
       "      <td>45.09540</td>\n",
       "      <td>-57.29138</td>\n",
       "      <td>20.05392</td>\n",
       "      <td>0.10414</td>\n",
       "      <td>12.00346</td>\n",
       "      <td>-14.31259</td>\n",
       "      <td>2.54547</td>\n",
       "      <td>-3.33986</td>\n",
       "      <td>-3.60175</td>\n",
       "      <td>-8.99414</td>\n",
       "      <td>...</td>\n",
       "      <td>7.15503</td>\n",
       "      <td>-81.48297</td>\n",
       "      <td>34.91722</td>\n",
       "      <td>15.11917</td>\n",
       "      <td>-6.09056</td>\n",
       "      <td>-78.52893</td>\n",
       "      <td>-46.87559</td>\n",
       "      <td>2.89571</td>\n",
       "      <td>64.25949</td>\n",
       "      <td>0.78578</td>\n",
       "    </tr>\n",
       "    <tr>\n",
       "      <th>200001</th>\n",
       "      <td>45.11673</td>\n",
       "      <td>-18.39958</td>\n",
       "      <td>-1.61552</td>\n",
       "      <td>-3.67929</td>\n",
       "      <td>-13.24027</td>\n",
       "      <td>-6.84375</td>\n",
       "      <td>-10.33838</td>\n",
       "      <td>-11.12891</td>\n",
       "      <td>16.56924</td>\n",
       "      <td>6.70243</td>\n",
       "      <td>...</td>\n",
       "      <td>8.26246</td>\n",
       "      <td>-138.26547</td>\n",
       "      <td>23.59451</td>\n",
       "      <td>60.99156</td>\n",
       "      <td>4.18891</td>\n",
       "      <td>105.75496</td>\n",
       "      <td>-126.39851</td>\n",
       "      <td>-3.80727</td>\n",
       "      <td>55.00532</td>\n",
       "      <td>-3.42354</td>\n",
       "    </tr>\n",
       "    <tr>\n",
       "      <th>200002</th>\n",
       "      <td>46.85191</td>\n",
       "      <td>9.44824</td>\n",
       "      <td>0.31518</td>\n",
       "      <td>-16.85413</td>\n",
       "      <td>15.42389</td>\n",
       "      <td>-15.82587</td>\n",
       "      <td>-21.21385</td>\n",
       "      <td>-10.16067</td>\n",
       "      <td>14.45113</td>\n",
       "      <td>2.22865</td>\n",
       "      <td>...</td>\n",
       "      <td>13.24783</td>\n",
       "      <td>-91.25475</td>\n",
       "      <td>41.12300</td>\n",
       "      <td>55.22389</td>\n",
       "      <td>8.33048</td>\n",
       "      <td>7.57355</td>\n",
       "      <td>17.34516</td>\n",
       "      <td>0.21543</td>\n",
       "      <td>-58.34520</td>\n",
       "      <td>3.92760</td>\n",
       "    </tr>\n",
       "    <tr>\n",
       "      <th>200003</th>\n",
       "      <td>45.79644</td>\n",
       "      <td>-36.86230</td>\n",
       "      <td>21.99320</td>\n",
       "      <td>-10.42360</td>\n",
       "      <td>-2.89410</td>\n",
       "      <td>-8.84010</td>\n",
       "      <td>-23.73864</td>\n",
       "      <td>-9.82956</td>\n",
       "      <td>13.08399</td>\n",
       "      <td>0.57577</td>\n",
       "      <td>...</td>\n",
       "      <td>8.13403</td>\n",
       "      <td>-194.21155</td>\n",
       "      <td>55.55883</td>\n",
       "      <td>21.65387</td>\n",
       "      <td>6.41164</td>\n",
       "      <td>-47.18867</td>\n",
       "      <td>-212.14270</td>\n",
       "      <td>-4.67550</td>\n",
       "      <td>-86.99988</td>\n",
       "      <td>-6.12034</td>\n",
       "    </tr>\n",
       "    <tr>\n",
       "      <th>200004</th>\n",
       "      <td>40.92442</td>\n",
       "      <td>-43.26026</td>\n",
       "      <td>-18.72100</td>\n",
       "      <td>-11.72495</td>\n",
       "      <td>-19.69395</td>\n",
       "      <td>-10.54229</td>\n",
       "      <td>-9.91945</td>\n",
       "      <td>-14.85633</td>\n",
       "      <td>9.37409</td>\n",
       "      <td>-0.93093</td>\n",
       "      <td>...</td>\n",
       "      <td>17.63167</td>\n",
       "      <td>-203.56276</td>\n",
       "      <td>27.10714</td>\n",
       "      <td>36.90795</td>\n",
       "      <td>0.62431</td>\n",
       "      <td>-40.23377</td>\n",
       "      <td>-83.22141</td>\n",
       "      <td>4.44391</td>\n",
       "      <td>73.15568</td>\n",
       "      <td>3.25023</td>\n",
       "    </tr>\n",
       "  </tbody>\n",
       "</table>\n",
       "<p>5 rows × 90 columns</p>\n",
       "</div>"
      ],
      "text/plain": [
       "              1         2         3         4         5         6         7   \\\n",
       "200000  45.09540 -57.29138  20.05392   0.10414  12.00346 -14.31259   2.54547   \n",
       "200001  45.11673 -18.39958  -1.61552  -3.67929 -13.24027  -6.84375 -10.33838   \n",
       "200002  46.85191   9.44824   0.31518 -16.85413  15.42389 -15.82587 -21.21385   \n",
       "200003  45.79644 -36.86230  21.99320 -10.42360  -2.89410  -8.84010 -23.73864   \n",
       "200004  40.92442 -43.26026 -18.72100 -11.72495 -19.69395 -10.54229  -9.91945   \n",
       "\n",
       "              8         9        10  ...        81         82        83  \\\n",
       "200000  -3.33986  -3.60175 -8.99414  ...   7.15503  -81.48297  34.91722   \n",
       "200001 -11.12891  16.56924  6.70243  ...   8.26246 -138.26547  23.59451   \n",
       "200002 -10.16067  14.45113  2.22865  ...  13.24783  -91.25475  41.12300   \n",
       "200003  -9.82956  13.08399  0.57577  ...   8.13403 -194.21155  55.55883   \n",
       "200004 -14.85633   9.37409 -0.93093  ...  17.63167 -203.56276  27.10714   \n",
       "\n",
       "              84       85         86         87       88        89       90  \n",
       "200000  15.11917 -6.09056  -78.52893  -46.87559  2.89571  64.25949  0.78578  \n",
       "200001  60.99156  4.18891  105.75496 -126.39851 -3.80727  55.00532 -3.42354  \n",
       "200002  55.22389  8.33048    7.57355   17.34516  0.21543 -58.34520  3.92760  \n",
       "200003  21.65387  6.41164  -47.18867 -212.14270 -4.67550 -86.99988 -6.12034  \n",
       "200004  36.90795  0.62431  -40.23377  -83.22141  4.44391  73.15568  3.25023  \n",
       "\n",
       "[5 rows x 90 columns]"
      ]
     },
     "execution_count": 6,
     "metadata": {},
     "output_type": "execute_result"
    }
   ],
   "source": [
    "# peak at the data if desired\n",
    "X_test.head()"
   ]
  },
  {
   "cell_type": "markdown",
   "metadata": {},
   "source": [
    "#### Train the model  (Note, this may take a bit of time for larger values of _num_est_. )"
   ]
  },
  {
   "cell_type": "code",
   "execution_count": 7,
   "metadata": {},
   "outputs": [
    {
     "data": {
      "text/html": [
       "<style>#sk-container-id-1 {color: black;background-color: white;}#sk-container-id-1 pre{padding: 0;}#sk-container-id-1 div.sk-toggleable {background-color: white;}#sk-container-id-1 label.sk-toggleable__label {cursor: pointer;display: block;width: 100%;margin-bottom: 0;padding: 0.3em;box-sizing: border-box;text-align: center;}#sk-container-id-1 label.sk-toggleable__label-arrow:before {content: \"▸\";float: left;margin-right: 0.25em;color: #696969;}#sk-container-id-1 label.sk-toggleable__label-arrow:hover:before {color: black;}#sk-container-id-1 div.sk-estimator:hover label.sk-toggleable__label-arrow:before {color: black;}#sk-container-id-1 div.sk-toggleable__content {max-height: 0;max-width: 0;overflow: hidden;text-align: left;background-color: #f0f8ff;}#sk-container-id-1 div.sk-toggleable__content pre {margin: 0.2em;color: black;border-radius: 0.25em;background-color: #f0f8ff;}#sk-container-id-1 input.sk-toggleable__control:checked~div.sk-toggleable__content {max-height: 200px;max-width: 100%;overflow: auto;}#sk-container-id-1 input.sk-toggleable__control:checked~label.sk-toggleable__label-arrow:before {content: \"▾\";}#sk-container-id-1 div.sk-estimator input.sk-toggleable__control:checked~label.sk-toggleable__label {background-color: #d4ebff;}#sk-container-id-1 div.sk-label input.sk-toggleable__control:checked~label.sk-toggleable__label {background-color: #d4ebff;}#sk-container-id-1 input.sk-hidden--visually {border: 0;clip: rect(1px 1px 1px 1px);clip: rect(1px, 1px, 1px, 1px);height: 1px;margin: -1px;overflow: hidden;padding: 0;position: absolute;width: 1px;}#sk-container-id-1 div.sk-estimator {font-family: monospace;background-color: #f0f8ff;border: 1px dotted black;border-radius: 0.25em;box-sizing: border-box;margin-bottom: 0.5em;}#sk-container-id-1 div.sk-estimator:hover {background-color: #d4ebff;}#sk-container-id-1 div.sk-parallel-item::after {content: \"\";width: 100%;border-bottom: 1px solid gray;flex-grow: 1;}#sk-container-id-1 div.sk-label:hover label.sk-toggleable__label {background-color: #d4ebff;}#sk-container-id-1 div.sk-serial::before {content: \"\";position: absolute;border-left: 1px solid gray;box-sizing: border-box;top: 0;bottom: 0;left: 50%;z-index: 0;}#sk-container-id-1 div.sk-serial {display: flex;flex-direction: column;align-items: center;background-color: white;padding-right: 0.2em;padding-left: 0.2em;position: relative;}#sk-container-id-1 div.sk-item {position: relative;z-index: 1;}#sk-container-id-1 div.sk-parallel {display: flex;align-items: stretch;justify-content: center;background-color: white;position: relative;}#sk-container-id-1 div.sk-item::before, #sk-container-id-1 div.sk-parallel-item::before {content: \"\";position: absolute;border-left: 1px solid gray;box-sizing: border-box;top: 0;bottom: 0;left: 50%;z-index: -1;}#sk-container-id-1 div.sk-parallel-item {display: flex;flex-direction: column;z-index: 1;position: relative;background-color: white;}#sk-container-id-1 div.sk-parallel-item:first-child::after {align-self: flex-end;width: 50%;}#sk-container-id-1 div.sk-parallel-item:last-child::after {align-self: flex-start;width: 50%;}#sk-container-id-1 div.sk-parallel-item:only-child::after {width: 0;}#sk-container-id-1 div.sk-dashed-wrapped {border: 1px dashed gray;margin: 0 0.4em 0.5em 0.4em;box-sizing: border-box;padding-bottom: 0.4em;background-color: white;}#sk-container-id-1 div.sk-label label {font-family: monospace;font-weight: bold;display: inline-block;line-height: 1.2em;}#sk-container-id-1 div.sk-label-container {text-align: center;}#sk-container-id-1 div.sk-container {/* jupyter's `normalize.less` sets `[hidden] { display: none; }` but bootstrap.min.css set `[hidden] { display: none !important; }` so we also need the `!important` here to be able to override the default hidden behavior on the sphinx rendered scikit-learn.org. See: https://github.com/scikit-learn/scikit-learn/issues/21755 */display: inline-block !important;position: relative;}#sk-container-id-1 div.sk-text-repr-fallback {display: none;}</style><div id=\"sk-container-id-1\" class=\"sk-top-container\"><div class=\"sk-text-repr-fallback\"><pre>RandomForestRegressor(max_depth=8, n_estimators=20)</pre><b>In a Jupyter environment, please rerun this cell to show the HTML representation or trust the notebook. <br />On GitHub, the HTML representation is unable to render, please try loading this page with nbviewer.org.</b></div><div class=\"sk-container\" hidden><div class=\"sk-item\"><div class=\"sk-estimator sk-toggleable\"><input class=\"sk-toggleable__control sk-hidden--visually\" id=\"sk-estimator-id-1\" type=\"checkbox\" checked><label for=\"sk-estimator-id-1\" class=\"sk-toggleable__label sk-toggleable__label-arrow\">RandomForestRegressor</label><div class=\"sk-toggleable__content\"><pre>RandomForestRegressor(max_depth=8, n_estimators=20)</pre></div></div></div></div></div>"
      ],
      "text/plain": [
       "RandomForestRegressor(max_depth=8, n_estimators=20)"
      ]
     },
     "execution_count": 7,
     "metadata": {},
     "output_type": "execute_result"
    }
   ],
   "source": [
    "from sklearn.ensemble import RandomForestRegressor\n",
    "num_est=20 #originally 100 but it took too long\n",
    "\n",
    "skl_model = RandomForestRegressor(n_estimators=num_est, max_depth=8)\n",
    "skl_model.fit(X_train, y_train)"
   ]
  },
  {
   "cell_type": "markdown",
   "metadata": {},
   "source": [
    "#### scikit-learn (CPU only)"
   ]
  },
  {
   "cell_type": "code",
   "execution_count": null,
   "metadata": {},
   "outputs": [],
   "source": [
    "skl_time = %timeit -o skl_model.predict(data)"
   ]
  },
  {
   "cell_type": "markdown",
   "metadata": {},
   "source": [
    "#### Convert scikit-learn model to PyTorch"
   ]
  },
  {
   "cell_type": "code",
   "execution_count": null,
   "metadata": {},
   "outputs": [],
   "source": [
    "model = convert(skl_model, 'torch')"
   ]
  },
  {
   "cell_type": "markdown",
   "metadata": {},
   "source": [
    "#### Time PyTorch - CPU"
   ]
  },
  {
   "cell_type": "code",
   "execution_count": null,
   "metadata": {},
   "outputs": [],
   "source": [
    "pred_cpu_hb = %timeit -o model.predict(data)"
   ]
  },
  {
   "cell_type": "markdown",
   "metadata": {},
   "source": [
    "#### Switch PyTorch from CPU to GPU"
   ]
  },
  {
   "cell_type": "code",
   "execution_count": null,
   "metadata": {},
   "outputs": [],
   "source": [
    "%%capture \n",
    "model.to('cuda')"
   ]
  },
  {
   "cell_type": "markdown",
   "metadata": {},
   "source": [
    "#### Time PyTorch - GPU"
   ]
  },
  {
   "cell_type": "code",
   "execution_count": null,
   "metadata": {},
   "outputs": [],
   "source": [
    "pred_gpu_hb = %timeit -o model.predict(data)"
   ]
  },
  {
   "cell_type": "markdown",
   "metadata": {},
   "source": [
    "## Note: Continuing in this notebook requires TVM built with LLVM support. Install instructions [here](https://tvm.apache.org/docs/install/index.html)"
   ]
  },
  {
   "cell_type": "markdown",
   "metadata": {},
   "source": [
    "#### Convert scikit-learn model to TVM (CPU)"
   ]
  },
  {
   "cell_type": "code",
   "execution_count": null,
   "metadata": {},
   "outputs": [],
   "source": [
    "model_tvm = convert(skl_model, 'tvm', data)"
   ]
  },
  {
   "cell_type": "markdown",
   "metadata": {},
   "source": [
    "#### Time TVM - CPU"
   ]
  },
  {
   "cell_type": "code",
   "execution_count": null,
   "metadata": {
    "scrolled": true
   },
   "outputs": [],
   "source": [
    "pred_cpu_tvm = %timeit -o model_tvm.predict(data)"
   ]
  },
  {
   "cell_type": "markdown",
   "metadata": {},
   "source": [
    "#### Convert scikit-learn model to TVM (GPU)"
   ]
  },
  {
   "cell_type": "code",
   "execution_count": null,
   "metadata": {},
   "outputs": [],
   "source": [
    "model_tvm = convert(skl_model, 'tvm', data, 'cuda')"
   ]
  },
  {
   "cell_type": "markdown",
   "metadata": {},
   "source": [
    "#### Time TVM - GPU"
   ]
  },
  {
   "cell_type": "code",
   "execution_count": null,
   "metadata": {},
   "outputs": [],
   "source": [
    "pred_gpu_tvm = %timeit -o model_tvm.predict(data)"
   ]
  },
  {
   "cell_type": "markdown",
   "metadata": {},
   "source": [
    "#### Plot the results"
   ]
  },
  {
   "cell_type": "code",
   "execution_count": null,
   "metadata": {},
   "outputs": [],
   "source": [
    "def plot(title, skl_time, pred_cpu_hb, pred_gpu_hb, pred_cpu_tvm, pred_gpu_tvm):\n",
    "    import matplotlib.pyplot as plt\n",
    "    import numpy as np\n",
    "    from matplotlib.pyplot import cm\n",
    "\n",
    "    fig = plt.figure()\n",
    "\n",
    "    x = ['skl','pyt-cpu','pyt-gpu','tvm-cpu','tvm-gpu']\n",
    "    height = [skl_time.average,pred_cpu_hb.average,pred_gpu_hb.average,pred_cpu_tvm.average,pred_gpu_tvm.average]\n",
    "    width = 1.0\n",
    "    plt.ylabel('time in seconds')\n",
    "    plt.xlabel(title)\n",
    "\n",
    "    rects = plt.bar(x, height, width, color=cm.rainbow(np.linspace(0,1,5)))\n",
    "    def autolabel(rects):\n",
    "\n",
    "        for rect in rects:\n",
    "            height = rect.get_height()\n",
    "            plt.text(rect.get_x() + rect.get_width()/2., 1.05*height,\n",
    "                    '%.4f' % (height),\n",
    "                    ha='center', va='bottom')\n",
    "\n",
    "    autolabel(rects)\n",
    "    plt.show()"
   ]
  },
  {
   "cell_type": "code",
   "execution_count": null,
   "metadata": {},
   "outputs": [],
   "source": [
    "chartname = \"SKL - \" + str(num_est) + \" - Year Dataset\"\n",
    "\n",
    "plot(chartname, skl_time, pred_cpu_hb, pred_gpu_hb, pred_cpu_tvm, pred_gpu_tvm)"
   ]
  },
  {
   "cell_type": "code",
   "execution_count": null,
   "metadata": {},
   "outputs": [],
   "source": []
  },
  {
   "cell_type": "code",
   "execution_count": null,
   "metadata": {},
   "outputs": [],
   "source": []
  }
 ],
 "metadata": {
  "interpreter": {
   "hash": "19eb2ea2e177b2c490fab7daf597d081559996785465fafb73f5be6b10fe60f1"
  },
  "kernelspec": {
   "display_name": "Python 3.9.12 ('base')",
   "language": "python",
   "name": "python3"
  },
  "language_info": {
   "codemirror_mode": {
    "name": "ipython",
    "version": 3
   },
   "file_extension": ".py",
   "mimetype": "text/x-python",
   "name": "python",
   "nbconvert_exporter": "python",
   "pygments_lexer": "ipython3",
   "version": "3.9.12"
  }
 },
 "nbformat": 4,
 "nbformat_minor": 2
}
